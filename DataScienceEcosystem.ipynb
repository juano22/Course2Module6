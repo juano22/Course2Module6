{
 "cells": [
  {
   "cell_type": "markdown",
   "id": "0fb8a2b2-b1f3-4d74-986e-fef29c478588",
   "metadata": {},
   "source": [
    "# Data Science Tools and Ecosystem"
   ]
  },
  {
   "cell_type": "markdown",
   "id": "dc8ac69f-16d2-4190-9229-8e33ce62a2d2",
   "metadata": {},
   "source": [
    "## Author:\n",
    "Juan Rosero"
   ]
  },
  {
   "cell_type": "markdown",
   "id": "11e5452c-8dae-4f66-bf7e-0d39072ed1fb",
   "metadata": {},
   "source": [
    "In this notebook, Data Science Tools and Ecosystem are summarized"
   ]
  },
  {
   "cell_type": "markdown",
   "id": "e2c0eb6f-5c7b-4530-a2a1-d5b8c8595ebc",
   "metadata": {},
   "source": [
    "**Objectives:**\n",
    "\n",
    "  - Mention popular languages used by Data Scientists\n",
    "  - Mention common libraries used in Data Science\n",
    "  - Create a table listing popular open source Data Science Tools\n",
    "  - Evaluate arithmetic expressions used in Python"
   ]
  },
  {
   "cell_type": "markdown",
   "id": "d7c3da39-c69d-4f0e-a74f-8577636388b1",
   "metadata": {},
   "source": [
    "The following are popular languages Data Scienctists use:\n",
    "\n",
    "1. Python\n",
    "2. R\n",
    "3. Java\n",
    "4. SQL"
   ]
  },
  {
   "cell_type": "markdown",
   "id": "a68bb981-32eb-428d-ab02-6e3d411d183c",
   "metadata": {},
   "source": [
    "Some commonly used libraries by Data Scientists are:\n",
    "\n",
    "1. NumPy\n",
    "2. Pandas\n",
    "3. Matplotlib"
   ]
  },
  {
   "cell_type": "markdown",
   "id": "d2f5c70e-fe90-4896-ade0-f3b72c7385db",
   "metadata": {},
   "source": [
    "|Data Science Tools|\n",
    "|------------------|\n",
    "|Jupyter Lab|\n",
    "|RStudio|\n",
    "|Google Colab|"
   ]
  },
  {
   "cell_type": "markdown",
   "id": "dea6d49d-628f-4639-b4f9-1b158ecf2e2c",
   "metadata": {},
   "source": [
    "### Below are a few examples of evaluating arithmetic expressions in Python:"
   ]
  },
  {
   "cell_type": "code",
   "execution_count": 4,
   "id": "ce52f1a2-1404-48fd-b004-0d05dd3b5d49",
   "metadata": {},
   "outputs": [
    {
     "data": {
      "text/plain": [
       "17"
      ]
     },
     "execution_count": 4,
     "metadata": {},
     "output_type": "execute_result"
    }
   ],
   "source": [
    "# This is a simple arithmetic expression to multiply and then add integers\n",
    "\n",
    "(3*4)+5"
   ]
  },
  {
   "cell_type": "code",
   "execution_count": 5,
   "id": "95aad29e-1175-46e8-8c90-243600f49186",
   "metadata": {},
   "outputs": [
    {
     "data": {
      "text/plain": [
       "3.3333333333333335"
      ]
     },
     "execution_count": 5,
     "metadata": {},
     "output_type": "execute_result"
    }
   ],
   "source": [
    "# This will convert minutes to hours by dividing by 60\n",
    "\n",
    "200/60"
   ]
  }
 ],
 "metadata": {
  "kernelspec": {
   "display_name": "Python [conda env:base] *",
   "language": "python",
   "name": "conda-base-py"
  },
  "language_info": {
   "codemirror_mode": {
    "name": "ipython",
    "version": 3
   },
   "file_extension": ".py",
   "mimetype": "text/x-python",
   "name": "python",
   "nbconvert_exporter": "python",
   "pygments_lexer": "ipython3",
   "version": "3.11.5"
  }
 },
 "nbformat": 4,
 "nbformat_minor": 5
}
